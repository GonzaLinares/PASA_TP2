{
  "cells": [
    {
      "cell_type": "markdown",
      "metadata": {},
      "source": [
        "# $\\textit{Analisis de respuestas impulsivas}$\n",
        "$\\textit{Filtro lineal optimo}$"
      ]
    },
    {
      "cell_type": "code",
      "execution_count": null,
      "metadata": {},
      "outputs": [],
      "source": [
        "import pandas as pd\n",
        "import numpy as np\n",
        "import matplotlib.pyplot as plt\n",
        "import seaborn as sns\n",
        "import IPython.display as ipd\n",
        "import scipy.signal as sp\n",
        "import scipy.io as io\n",
        "import scipy.linalg as lin"
      ]
    },
    {
      "cell_type": "code",
      "execution_count": null,
      "metadata": {},
      "outputs": [],
      "source": [
        "%matplotlib widget"
      ]
    },
    {
      "cell_type": "code",
      "execution_count": null,
      "metadata": {},
      "outputs": [],
      "source": [
        "fs = 48000"
      ]
    },
    {
      "cell_type": "code",
      "execution_count": null,
      "metadata": {},
      "outputs": [],
      "source": [
        "t = np.linspace(0, 10, 10*fs, endpoint=False)\n",
        "f0 = 20\n",
        "f1 = 20000\n",
        "T = 10\n",
        "k = (f1/f0)**(1/T)\n",
        "\n",
        "chirpLinearSignal = sp.chirp(t, f0=f0, t1=10, f1=f1, method='linear')\n",
        "\n",
        "chirpExpSignal = np.sin(2 * np.pi * f0 * (k**t-1)/np.log(k))\n",
        "\n",
        "gaussSignal = np.random.normal(0, 1, size=fs*10)\n",
        "\n",
        "squareSignal = sp.square(2 * np.pi * 100 * t)\n",
        "\n"
      ]
    },
    {
      "cell_type": "code",
      "execution_count": null,
      "metadata": {},
      "outputs": [],
      "source": [
        "# io.wavfile.write(\"chirpLinearSignal.wav\", fs, chirpLinearSignal)\n",
        "# io.wavfile.write(\"chirpExpSignal.wav\", fs, chirpExpSignal)\n",
        "# io.wavfile.write(\"noiseSignal.wav\", fs, gaussSignal)\n",
        "# io.wavfile.write(\"squareSignal.wav\", fs, squareSignal)"
      ]
    },
    {
      "cell_type": "code",
      "execution_count": null,
      "metadata": {},
      "outputs": [],
      "source": [
        "def plot_spectrogram(title, w, fs):\n",
        "    ff, tt, Sxx = sp.spectrogram(w, fs=fs, nperseg=256, nfft=576)\n",
        "    fig, ax = plt.subplots()\n",
        "    ax.pcolormesh(tt, ff, Sxx, cmap='gray_r',\n",
        "                  shading='gouraud')\n",
        "    ax.set_title(title)\n",
        "    ax.set_xlabel('t (sec)')\n",
        "    ax.set_ylabel('Frequency (Hz)')\n",
        "    ax.grid(True)\n"
      ]
    },
    {
      "cell_type": "code",
      "execution_count": null,
      "metadata": {},
      "outputs": [],
      "source": [
        "fs1, musicSignal = io.wavfile.read(\"musicSignal.wav\")\n",
        "fs2, VoiceSignal = io.wavfile.read(\"VoiceSignal.wav\")\n",
        "fs3, chirpLinearSignal = io.wavfile.read(\"chirpLinearSignal.wav\")\n",
        "fs4, chirpExpSignal = io.wavfile.read(\"chirpExpSignal.wav\")\n",
        "fs5, gaussSignal = io.wavfile.read(\"noiseSignal.wav\")\n",
        "fs6, squareSignal = io.wavfile.read(\"squareSignal.wav\")"
      ]
    },
    {
      "cell_type": "code",
      "execution_count": null,
      "metadata": {},
      "outputs": [],
      "source": [
        "fs1, recmusicSignal = io.wavfile.read(\"recmusicSignal.wav\")\n",
        "fs2, recVoiceSignal = io.wavfile.read(\"recVoiceSignal.wav\")\n",
        "fs3, recchirpLinearSignal = io.wavfile.read(\"recchirpLinearSignal.wav\")\n",
        "fs4, recchirpExpSignal = io.wavfile.read(\"recchirpExpSignal.wav\")\n",
        "fs5, recgaussSignal = io.wavfile.read(\"recnoiseSignal.wav\")\n",
        "fs6, recsquareSignal = io.wavfile.read(\"recsquareSignal.wav\")\n",
        "\n",
        "recmusicSignal = (recmusicSignal.T)[1]\n",
        "recVoiceSignal = (recVoiceSignal.T)[1]\n",
        "recchirpLinearSignal = (recchirpLinearSignal.T)[1]\n",
        "recchirpExpSignal = (recchirpExpSignal.T)[1]\n",
        "recgaussSignal = (recgaussSignal.T)[1]\n",
        "recsquareSignal = (recsquareSignal.T)[1]\n"
      ]
    },
    {
      "cell_type": "code",
      "execution_count": null,
      "metadata": {},
      "outputs": [],
      "source": [
        "orgsignal = {\"music\": musicSignal, \"voice\": VoiceSignal, \"chirpLin\": chirpLinearSignal,\n",
        "          \"chirpExp\": chirpExpSignal, \"gauss\": gaussSignal, \"square\": squareSignal}\n",
        "recsignal = {\"music\": recmusicSignal, \"voice\": recVoiceSignal, \"chirpLin\": recchirpLinearSignal,\n",
        "          \"chirpExp\": recchirpExpSignal, \"gauss\": recgaussSignal, \"square\": recsquareSignal}"
      ]
    },
    {
      "cell_type": "code",
      "execution_count": null,
      "metadata": {},
      "outputs": [],
      "source": [
        "ipd.Audio(squareSignal, rate=fs)"
      ]
    },
    {
      "cell_type": "markdown",
      "metadata": {},
      "source": [
        "Comparamos los espectros de potencia"
      ]
    },
    {
      "cell_type": "code",
      "execution_count": null,
      "metadata": {},
      "outputs": [],
      "source": [
        "plt.figure(figsize=(10, 15))\n",
        "\n",
        "for i, (name, s) in enumerate(zip(orgsignal.keys(), orgsignal.values())):\n",
        "    f, Pxx_den = sp.welch(s, fs=fs, window='bartlett')\n",
        "    plt.subplot(3, 2, i+1)\n",
        "    plt.title(f\"{name}\")\n",
        "    plt.xlabel('Freq [Hz]')\n",
        "    plt.ylabel('PSD')\n",
        "    plt.loglog(f, Pxx_den)"
      ]
    },
    {
      "cell_type": "markdown",
      "metadata": {},
      "source": [
        "Viendo los espectrogramas anteriores, intuimos que la señal que mejor va funcionar para obtener h(n) es el barrido lineal porque excita al sistema (en este caso en el living de una casa) con un espectro de potencia mas constante que los demas. Este espectro plano permite que el resultado del filtro optimo ajuste directamente sobre el sistema q se quiere modelar y no tambien tome las caracteristicas de la señal que se esta utilizando. El ruido gaussiano tambien tiene una caracteristica plana, pero al ser una muestra de un ensamble no tiene un espectro realmente plano"
      ]
    },
    {
      "cell_type": "markdown",
      "metadata": {},
      "source": [
        "# Modelado de sistema"
      ]
    },
    {
      "cell_type": "markdown",
      "metadata": {},
      "source": [
        "$$ w_o = R^{-1}*p $$\n",
        "\n",
        "$$ R = \\begin{bmatrix}\n",
        "Rxx(0) & Rxx (-1) & ... & Rxx(-(M-1)) \\\\\n",
        "Rxx(-1) & Rxx (0) & ... & Rxx(-(M-2)) \\\\\n",
        "... & & & \\\\\n",
        "\n",
        "\\end{bmatrix}\n",
        "$$\n",
        "$$ p = \\begin{bmatrix}\n",
        "Rxy(1) & Rxy (2) & ... & Rxy(M) \\\\\n",
        "\n",
        "\\end{bmatrix}\n",
        "$$\n",
        "\n",
        "![Alt text](image.png)"
      ]
    },
    {
      "cell_type": "code",
      "execution_count": null,
      "metadata": {},
      "outputs": [],
      "source": [
        "def get_optimal_params(x, y, M):\n",
        "    N = len(x)\n",
        "    r = sp.correlate(x, x)/N\n",
        "    p = sp.correlate(x, y)/N\n",
        "    r = r[N-1:N-1 + M]\n",
        "    p = p[N-1:N-1-(M):-1]           # Correlate calcula la cross-corr r(-k), y necesitamos r(k), y esto no es par como la autocorrelacion\n",
        "    wo = lin.solve_toeplitz(r, p)\n",
        "\n",
        "    jo = np.var(y) - np.dot(p, wo)\n",
        "\n",
        "    NMSE = jo/np.var(y)\n",
        "    \n",
        "    return wo, jo, NMSE\n"
      ]
    },
    {
      "cell_type": "code",
      "execution_count": null,
      "metadata": {},
      "outputs": [],
      "source": [
        "wo, jo, nmse = get_optimal_params(orgsignal['music'], recsignal['music'], 12500)\n",
        "\n",
        "out = sp.lfilter(wo, [1.0], recsignal['music'])\n",
        "\n",
        "print(nmse)\n"
      ]
    },
    {
      "cell_type": "code",
      "execution_count": null,
      "metadata": {},
      "outputs": [],
      "source": [
        "Ms = np.linspace(1000, 20000, 100, dtype=int)\n",
        "jos = np.zeros(len(Ms))\n",
        "for i, M in enumerate(Ms):\n",
        "    wo, jo, nmse = get_optimal_params(orgsignal['music'], recsignal['music'], M)\n",
        "    jos[i] = nmse\n",
        "\n",
        "plt.figure()\n",
        "plt.plot(Ms, jos)"
      ]
    },
    {
      "cell_type": "code",
      "execution_count": null,
      "metadata": {},
      "outputs": [],
      "source": [
        "ipd.Audio(orgsignal['music'], rate=fs)"
      ]
    },
    {
      "cell_type": "code",
      "execution_count": null,
      "metadata": {},
      "outputs": [],
      "source": [
        "ipd.Audio(recsignal['music'], rate=fs)"
      ]
    },
    {
      "cell_type": "code",
      "execution_count": null,
      "metadata": {},
      "outputs": [],
      "source": [
        "ipd.Audio(out/np.abs(out).max(), rate=fs, normalize=False)"
      ]
    },
    {
      "cell_type": "code",
      "execution_count": null,
      "metadata": {},
      "outputs": [],
      "source": []
    }
  ],
  "metadata": {
    "kernelspec": {
      "display_name": "Python 3",
      "language": "python",
      "name": "python3"
    },
    "language_info": {
      "codemirror_mode": {
        "name": "ipython",
        "version": 3
      },
      "file_extension": ".py",
      "mimetype": "text/x-python",
      "name": "python",
      "nbconvert_exporter": "python",
      "pygments_lexer": "ipython3",
      "version": "3.10.11"
    },
    "orig_nbformat": 4
  },
  "nbformat": 4,
  "nbformat_minor": 2
}
